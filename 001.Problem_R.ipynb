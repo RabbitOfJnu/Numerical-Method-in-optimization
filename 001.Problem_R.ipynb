{
 "cells": [
  {
   "cell_type": "markdown",
   "metadata": {},
   "source": [
    "# Problem_R: network representing a relatively realistic case"
   ]
  },
  {
   "cell_type": "markdown",
   "metadata": {},
   "source": [
    "- DATA ASSOCIATED WITH THE RESOLUTION OF A NETWORK EQUATIONS"
   ]
  },
  {
   "cell_type": "markdown",
   "metadata": {},
   "source": [
    "## Variables of the problem "
   ]
  },
  {
   "cell_type": "markdown",
   "metadata": {},
   "source": [
    "1. $name$: name of the network \n",
    "2. $n$: total number of arcs \n",
    "3. $m$: total number of nodes\n",
    "4. $m_r$: number of reservoir type nodes \n",
    "5. $m_d$: number of demanding type nodes ($m_d= m-m_r$) \n",
    "6. $orig$: vector of the numbers of the initial nodes of the arcs: $M (1, n)$\n",
    "7. $dest$: vector of the numbers of end nodes of the arcs: $M (1, n) $\n",
    "8. $absn$: vector of the abscissas of the nodes: $M (1, m)$ \n",
    "9. $ordn$: vector of the ordinates of the nodes: $M (1, m)$  \n",
    "10. $r$: vector of the resistances of the arcs : $M (n, 1)$ \n",
    "11. $p_r$: vector of tank node pressures: $M (m_r, 1) $\n",
    "12. $f_d$: vector of demand node flows: $M (m_d, 1)$ "
   ]
  },
  {
   "cell_type": "code",
   "execution_count": 3,
   "metadata": {},
   "outputs": [],
   "source": [
    "from numpy import array"
   ]
  },
  {
   "cell_type": "markdown",
   "metadata": {},
   "source": [
    "### Name of the network "
   ]
  },
  {
   "cell_type": "code",
   "execution_count": 10,
   "metadata": {},
   "outputs": [],
   "source": [
    "name = 'Realist'"
   ]
  },
  {
   "cell_type": "markdown",
   "metadata": {},
   "source": [
    "### Network dimensions"
   ]
  },
  {
   "cell_type": "markdown",
   "metadata": {},
   "source": [
    "#### Number of nodes and arcs "
   ]
  },
  {
   "cell_type": "code",
   "execution_count": 12,
   "metadata": {},
   "outputs": [],
   "source": [
    "n = 22 \n",
    "m = 16 \n",
    "mr = 3 \n",
    "md = m - mr "
   ]
  },
  {
   "cell_type": "markdown",
   "metadata": {},
   "source": [
    "### Characteristics of nodes and arcs "
   ]
  },
  {
   "cell_type": "markdown",
   "metadata": {},
   "source": [
    "#### Numbers of initial and final nodes of arcs "
   ]
  },
  {
   "cell_type": "code",
   "execution_count": 13,
   "metadata": {},
   "outputs": [],
   "source": [
    "\n",
    "orig = array ([1, 2 , 3, 4, 5, 6, 7, 8, 8, 9, 10, 11, 13, 1, 2, 4, 5, 7, 8, 14, 2, 10]) \n",
    "dest = array ([4, 16 , 15, 5, 6, 10, 16, 9, 12, 10, 11, 14, 15, 16, 6, 8, 9, 11, 13, 15, 4, 13]) \n"
   ]
  },
  {
   "cell_type": "code",
   "execution_count": 14,
   "metadata": {},
   "outputs": [],
   "source": [
    "orig = orig - 1 # because Python starts at 0 \n",
    "dest = dest - 1 # because Python starts at 0 "
   ]
  },
  {
   "cell_type": "code",
   "execution_count": 15,
   "metadata": {},
   "outputs": [
    {
     "data": {
      "text/plain": [
       "array([ 0,  1,  2,  3,  4,  5,  6,  7,  7,  8,  9, 10, 12,  0,  1,  3,  4,\n",
       "        6,  7, 13,  1,  9])"
      ]
     },
     "execution_count": 15,
     "metadata": {},
     "output_type": "execute_result"
    }
   ],
   "source": [
    "orig"
   ]
  },
  {
   "cell_type": "code",
   "execution_count": 16,
   "metadata": {},
   "outputs": [
    {
     "data": {
      "text/plain": [
       "array([ 3, 15, 14,  4,  5,  9, 15,  8, 11,  9, 10, 13, 14, 15,  5,  7,  8,\n",
       "       10, 12, 14,  3, 12])"
      ]
     },
     "execution_count": 16,
     "metadata": {},
     "output_type": "execute_result"
    }
   ],
   "source": [
    "dest"
   ]
  },
  {
   "cell_type": "markdown",
   "metadata": {},
   "source": [
    "#### Node coordinates "
   ]
  },
  {
   "cell_type": "code",
   "execution_count": 17,
   "metadata": {},
   "outputs": [],
   "source": [
    "absn = array ([11, 18, 38, 4, 8, 15, 26, 4, 10, 19, 26, 7, 21, 33 , 33, 16]) \n",
    "ordn = array ([28, 21, 8, 21, 17, 17, 26, 9, 13, 13, 18, 4, 9, 18, 12, 24]) "
   ]
  },
  {
   "cell_type": "markdown",
   "metadata": {},
   "source": [
    "#### Arc resistances"
   ]
  },
  {
   "cell_type": "code",
   "execution_count": 19,
   "metadata": {},
   "outputs": [],
   "source": [
    "r = array ([100, 10, 1000, 100, 100, 10, 1000, 100, 1000, \n",
    "            100, 1000, 1000, 1000, 10, 10, 100, 100, 1000, 100, 1000, 100, 10]) "
   ]
  },
  {
   "cell_type": "markdown",
   "metadata": {},
   "source": [
    "#### Pressures at the bottom of the reservoirs (in m) "
   ]
  },
  {
   "cell_type": "code",
   "execution_count": 20,
   "metadata": {},
   "outputs": [],
   "source": [
    "pr = array ([105, 104, 110]) "
   ]
  },
  {
   "cell_type": "markdown",
   "metadata": {},
   "source": [
    "#### Flow at the demand nodes (in m3 / s) "
   ]
  },
  {
   "cell_type": "code",
   "execution_count": 21,
   "metadata": {},
   "outputs": [],
   "source": [
    "fd = array ([+ 0.08, -1.30, +0.13, +0.09 , +0.16, \n",
    "             +0.14, +0.12, +0.07, +0.17, +0.11, +0.25, +0.01, +0.13])"
   ]
  },
  {
   "cell_type": "code",
   "execution_count": null,
   "metadata": {},
   "outputs": [],
   "source": []
  }
 ],
 "metadata": {
  "kernelspec": {
   "display_name": "Python 3",
   "language": "python",
   "name": "python3"
  },
  "language_info": {
   "codemirror_mode": {
    "name": "ipython",
    "version": 3
   },
   "file_extension": ".py",
   "mimetype": "text/x-python",
   "name": "python",
   "nbconvert_exporter": "python",
   "pygments_lexer": "ipython3",
   "version": "3.8.3"
  },
  "toc": {
   "base_numbering": 1,
   "nav_menu": {},
   "number_sections": true,
   "sideBar": true,
   "skip_h1_title": false,
   "title_cell": "Table of Contents",
   "title_sidebar": "Contents",
   "toc_cell": false,
   "toc_position": {},
   "toc_section_display": true,
   "toc_window_display": false
  }
 },
 "nbformat": 4,
 "nbformat_minor": 4
}
