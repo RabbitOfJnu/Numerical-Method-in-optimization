{
 "cells": [
  {
   "cell_type": "markdown",
   "metadata": {},
   "source": [
    "# DISPLAY OF THE ITERIES OF THE OPTIMIZATION ALGORITHM"
   ]
  },
  {
   "cell_type": "markdown",
   "metadata": {},
   "source": [
    "- Display of the results obtained during the algorithm"
   ]
  },
  {
   "cell_type": "markdown",
   "metadata": {},
   "source": [
    "- Input variables  \n",
    "  1. $ gradient \\ list$: array containing the norm of the gradient  of the criterion at each iteration of the optimization algorithm.  \n",
    "  2. $ step \\ list $: array containing the length of the gradient step at each iteration.\n",
    "  3. $ criterere \\ list$: array containing the value of the criterion "
   ]
  },
  {
   "cell_type": "markdown",
   "metadata": {},
   "source": [
    "- Only the gradient norm and the step length are displayed "
   ]
  },
  {
   "cell_type": "code",
   "execution_count": 3,
   "metadata": {},
   "outputs": [],
   "source": [
    "def Visualg (gradient_list, step_list, criterere_list): \n",
    "\n",
    "    import matplotlib.pyplot as plt \n",
    "    \n",
    "    plt.subplot (2, 1, 1) \n",
    "    plt.gca (). set_title (\"Gradient norm during iterations\") \n",
    "    plt.gca (). set_yscale ('log') \n",
    "    plt.plot (gradient_list, label = \"Gradient norm\") \n",
    "    \n",
    "    plt.subplot (2, 1, 2) \n",
    "    plt.gca (). Set_title (\"No gradient during iterations\") \n",
    "    plt.gca (). Set_yscale ('log')\n",
    "    plt.plot (step_list, label = \"Step length\") \n",
    "    \n",
    "    plt.tight_layout (rect = (0, 0, 1, 2)) \n",
    "    plt.show ()"
   ]
  },
  {
   "cell_type": "code",
   "execution_count": null,
   "metadata": {},
   "outputs": [],
   "source": []
  },
  {
   "cell_type": "code",
   "execution_count": null,
   "metadata": {},
   "outputs": [],
   "source": []
  }
 ],
 "metadata": {
  "kernelspec": {
   "display_name": "Python 3",
   "language": "python",
   "name": "python3"
  },
  "language_info": {
   "codemirror_mode": {
    "name": "ipython",
    "version": 3
   },
   "file_extension": ".py",
   "mimetype": "text/x-python",
   "name": "python",
   "nbconvert_exporter": "python",
   "pygments_lexer": "ipython3",
   "version": "3.8.3"
  },
  "toc": {
   "base_numbering": 1,
   "nav_menu": {},
   "number_sections": true,
   "sideBar": true,
   "skip_h1_title": false,
   "title_cell": "Table of Contents",
   "title_sidebar": "Contents",
   "toc_cell": false,
   "toc_position": {},
   "toc_section_display": true,
   "toc_window_display": false
  }
 },
 "nbformat": 4,
 "nbformat_minor": 4
}
