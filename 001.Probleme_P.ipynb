{
 "cells": [
  {
   "cell_type": "markdown",
   "metadata": {},
   "source": [
    "# DATA ASSOCIATED WITH THE RESOLUTION OF A NETWORK EQUATIONS  \n",
    "Problem $P\\ $: configurable network size (binary tree)"
   ]
  },
  {
   "cell_type": "markdown",
   "metadata": {},
   "source": [
    "## Variables of the problem "
   ]
  },
  {
   "cell_type": "markdown",
   "metadata": {},
   "source": [
    "1. $name$: name of the network \n",
    "2. $n$: total number of arcs \n",
    "3. $m$: total number of nodes\n",
    "4. $m_r$: number of reservoir type nodes \n",
    "5. $m_d$: number of demanding type nodes ($m_d= m-m_r$) \n",
    "6. $orig$: vector of the numbers of the initial nodes of the arcs: $M (1, n)$\n",
    "7. $dest$: vector of the numbers of end nodes of the arcs: $M (1, n) $\n",
    "8. $absn$: vector of the abscissas of the nodes: $M (1, m)$ \n",
    "9. $ordn$: vector of the ordinates of the nodes: $M (1, m)$  \n",
    "10. $r$: vector of the resistances of the arcs : $M (n, 1)$ \n",
    "11. $p_r$: vector of tank node pressures: $M (m_r, 1) $\n",
    "12. $f_d$: vector of demand node flows: $M (m_d, 1)$ "
   ]
  },
  {
   "cell_type": "markdown",
   "metadata": {},
   "source": [
    "## Code"
   ]
  },
  {
   "cell_type": "markdown",
   "metadata": {},
   "source": [
    "### import the modular"
   ]
  },
  {
   "cell_type": "code",
   "execution_count": 1,
   "metadata": {},
   "outputs": [],
   "source": [
    "from numpy import ones \n",
    "from numpy import array \n",
    "from numpy import concatenate \n",
    "from numpy import random "
   ]
  },
  {
   "cell_type": "markdown",
   "metadata": {},
   "source": [
    "### Name of the network "
   ]
  },
  {
   "cell_type": "code",
   "execution_count": 2,
   "metadata": {},
   "outputs": [],
   "source": [
    "name = \"Configurable\" "
   ]
  },
  {
   "cell_type": "markdown",
   "metadata": {},
   "source": [
    "### Number of levels and initialization of the random generator \n"
   ]
  },
  {
   "cell_type": "code",
   "execution_count": 3,
   "metadata": {},
   "outputs": [],
   "source": [
    "T = 13\n",
    "gral = 123\n",
    "random.seed(gral)"
   ]
  },
  {
   "cell_type": "markdown",
   "metadata": {},
   "source": [
    "### Network dimensions "
   ]
  },
  {
   "cell_type": "code",
   "execution_count": 4,
   "metadata": {},
   "outputs": [],
   "source": [
    "m = (2 ** (T + 1)) - 1 \n",
    "mr = 1 \n",
    "md = m - mr \n",
    "n = ((2 ** (T + 1)) - 1) + ( (2 ** (T + 1)) - 1) - (T + 1) - 1 "
   ]
  },
  {
   "cell_type": "markdown",
   "metadata": {},
   "source": [
    "### Characteristics of nodes and arcs"
   ]
  },
  {
   "cell_type": "code",
   "execution_count": 5,
   "metadata": {},
   "outputs": [],
   "source": [
    "orig = [] \n",
    "dest = []"
   ]
  },
  {
   "cell_type": "markdown",
   "metadata": {},
   "source": [
    "- Arcs of the tree "
   ]
  },
  {
   "cell_type": "code",
   "execution_count": 6,
   "metadata": {},
   "outputs": [],
   "source": [
    "num = 1 \n",
    "for t in range (0, T): \n",
    "      ni = (2 ** t); \n",
    "      nf = (2 ** (t + 1)) - 1; \n",
    "      nz = 2 * (nf-ni + 1); \n",
    "      aorg = array ([range (ni, nf + 1), range (ni, nf + 1)]) \n",
    "      orig = concatenate ((orig, aorg.flatten ('F')), axis = 0) \n",
    "      dest = concatenate (( dest, array (range (num + 1, num + nz + 1))), axis = 0) \n",
    "      num = num + nz; "
   ]
  },
  {
   "cell_type": "markdown",
   "metadata": {},
   "source": [
    "- Arcs of the co-tree"
   ]
  },
  {
   "cell_type": "code",
   "execution_count": 8,
   "metadata": {},
   "outputs": [],
   "source": [
    "for t in range (1, T + 1): \n",
    "      ni = (2 ** t); \n",
    "      nf = (2 ** (t + 1)) - 1; \n",
    "      orig = concatenate ((orig, array (range (ni, nf))), axis = 0) \n",
    "      dest = concatenate ((dest, array (range (ni + 1, nf + 1))), axis = 0) "
   ]
  },
  {
   "cell_type": "markdown",
   "metadata": {},
   "source": [
    "- Python starts at 0 "
   ]
  },
  {
   "cell_type": "code",
   "execution_count": 9,
   "metadata": {},
   "outputs": [],
   "source": [
    "orig = orig - 1\n",
    "dest = dest - 1"
   ]
  },
  {
   "cell_type": "markdown",
   "metadata": {},
   "source": [
    "- Coordinates of nodes"
   ]
  },
  {
   "cell_type": "code",
   "execution_count": 12,
   "metadata": {},
   "outputs": [],
   "source": [
    "absn = []\n",
    "for t in range(0,T+1):\n",
    "      ni = (2**t);\n",
    "      nf = (2**(t+1)) - 1;\n",
    "      na = 2**(T-t+1);\n",
    "      nb = 2**(T-t);\n",
    "      num = na*array(range(0,nf-ni+1)) + nb\n",
    "      absn = concatenate((absn, num), axis=0)"
   ]
  },
  {
   "cell_type": "code",
   "execution_count": 13,
   "metadata": {},
   "outputs": [],
   "source": [
    "ordn = []\n",
    "for t in range(0,T+1):\n",
    "      ni = (2**t);\n",
    "      nf = (2**(t+1)) - 1;\n",
    "      ordn = concatenate((ordn, (T-t+1)*ones(nf-ni+1)), axis=0)"
   ]
  },
  {
   "cell_type": "markdown",
   "metadata": {},
   "source": [
    "- Arc resistances"
   ]
  },
  {
   "cell_type": "code",
   "execution_count": 14,
   "metadata": {},
   "outputs": [],
   "source": [
    "r = 1000 * random.rand(n)"
   ]
  },
  {
   "cell_type": "markdown",
   "metadata": {},
   "source": [
    "- Pressures at the bottom of the reservoir ( in $m$) "
   ]
  },
  {
   "cell_type": "code",
   "execution_count": 16,
   "metadata": {},
   "outputs": [],
   "source": [
    "pr = array ([200])"
   ]
  },
  {
   "cell_type": "markdown",
   "metadata": {},
   "source": [
    "Flow at demand nodes (in $m_{3}/{s}$) "
   ]
  },
  {
   "cell_type": "code",
   "execution_count": 17,
   "metadata": {},
   "outputs": [],
   "source": [
    "fd = 0.1 * (random.rand (md) -0.5)"
   ]
  },
  {
   "cell_type": "markdown",
   "metadata": {},
   "source": [
    "- Network information "
   ]
  },
  {
   "cell_type": "code",
   "execution_count": 18,
   "metadata": {},
   "outputs": [
    {
     "name": "stdout",
     "output_type": "stream",
     "text": [
      "\n",
      "Network sizes processed\n",
      "Number of levels: 13\n",
      "Number of pipes: 32751\n",
      "Number of nodes: 16383\n"
     ]
    }
   ],
   "source": [
    "print () \n",
    "print ('Network sizes processed') \n",
    "print ('Number of levels:', T) \n",
    "print ('Number of pipes:', n) \n",
    "print ('Number of nodes:', m)"
   ]
  },
  {
   "cell_type": "code",
   "execution_count": null,
   "metadata": {},
   "outputs": [],
   "source": []
  }
 ],
 "metadata": {
  "kernelspec": {
   "display_name": "Python 3",
   "language": "python",
   "name": "python3"
  },
  "language_info": {
   "codemirror_mode": {
    "name": "ipython",
    "version": 3
   },
   "file_extension": ".py",
   "mimetype": "text/x-python",
   "name": "python",
   "nbconvert_exporter": "python",
   "pygments_lexer": "ipython3",
   "version": "3.8.3"
  },
  "toc": {
   "base_numbering": 1,
   "nav_menu": {},
   "number_sections": true,
   "sideBar": true,
   "skip_h1_title": false,
   "title_cell": "Table of Contents",
   "title_sidebar": "Contents",
   "toc_cell": false,
   "toc_position": {},
   "toc_section_display": true,
   "toc_window_display": false
  }
 },
 "nbformat": 4,
 "nbformat_minor": 4
}
