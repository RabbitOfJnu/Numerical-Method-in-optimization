{
 "cells": [
  {
   "cell_type": "markdown",
   "metadata": {},
   "source": [
    "# DATA STRUCTURES NECESSARY FOR THE SOLUTION OF NETWORK EQUATIONS  \n",
    "Structures $S$: sparse matrices"
   ]
  },
  {
   "cell_type": "markdown",
   "metadata": {},
   "source": [
    "## Matrices from network topology"
   ]
  },
  {
   "cell_type": "markdown",
   "metadata": {},
   "source": [
    "- $A$: node-arcs incidence matrix of the graph: $M (m, n)$\n",
    "- $A_r$: submatrix of A corresponding to the reservoirs: $M (m_r, n)$\n",
    "- $A_d$: complementary submatrix of $Ar$ for $A$: $M (m_d, n)$\n",
    "- $A_{dT}$: largest invertible square sub-matrix of $A_d$: $M (md, md)$\n",
    "- $A_{dI}$: inverse matrix of $A_{dT}$: $M (m_d, m_d)$\n",
    "- $A_{dC}$: complementary submatrix of $A_{dT}$ for $A_d$: $M (m_d, n - m_d)$\n",
    "- $B$: arcs-cycle incidence matrix of the graph: $M (n, n-m_d)$"
   ]
  },
  {
   "cell_type": "markdown",
   "metadata": {},
   "source": [
    "## Debit admissible"
   ]
  },
  {
   "cell_type": "markdown",
   "metadata": {},
   "source": [
    "- $q_0$: vector of the admissible flow rates of the arcs: $M (n, 1)$\n"
   ]
  },
  {
   "cell_type": "markdown",
   "metadata": {},
   "source": [
    "## Code"
   ]
  },
  {
   "cell_type": "markdown",
   "metadata": {},
   "source": [
    "### import the modular"
   ]
  },
  {
   "cell_type": "code",
   "execution_count": 2,
   "metadata": {},
   "outputs": [
    {
     "name": "stderr",
     "output_type": "stream",
     "text": [
      "<frozen importlib._bootstrap>:219: RuntimeWarning: numpy.ufunc size changed, may indicate binary incompatibility. Expected 192 from C header, got 216 from PyObject\n",
      "<frozen importlib._bootstrap>:219: RuntimeWarning: numpy.ufunc size changed, may indicate binary incompatibility. Expected 192 from C header, got 216 from PyObject\n",
      "<frozen importlib._bootstrap>:219: RuntimeWarning: numpy.ufunc size changed, may indicate binary incompatibility. Expected 192 from C header, got 216 from PyObject\n"
     ]
    }
   ],
   "source": [
    "from numpy import dot\n",
    "from numpy import zeros\n",
    "from numpy import ones\n",
    "from numpy import array\n",
    "from numpy import int64\n",
    "from numpy import concatenate\n",
    "from numpy import random\n",
    "\n",
    "from scipy import sparse\n",
    "from scipy.sparse import eye\n",
    "from scipy.sparse import coo_matrix\n",
    "from scipy.sparse import vstack\n",
    "from scipy.sparse.linalg import inv"
   ]
  },
  {
   "cell_type": "markdown",
   "metadata": {},
   "source": [
    "### Problem $P\\ $: parameterizable size problem"
   ]
  },
  {
   "cell_type": "code",
   "execution_count": 12,
   "metadata": {},
   "outputs": [],
   "source": [
    "from Probleme_P import *"
   ]
  },
  {
   "cell_type": "markdown",
   "metadata": {},
   "source": [
    "### Incidence matrix and associated sub-matrices"
   ]
  },
  {
   "cell_type": "markdown",
   "metadata": {},
   "source": [
    "- Incidence matrix node-arcs of the graph"
   ]
  },
  {
   "cell_type": "code",
   "execution_count": 13,
   "metadata": {},
   "outputs": [],
   "source": [
    "row_ind = concatenate((orig.astype(int64), dest.astype(int64)), axis=0)\n",
    "col_ind = concatenate((array(range(0,n)), array(range(0,n))), axis=0)\n",
    "mat_dat = concatenate((-ones(n), ones(n)), axis=0)\n",
    "A = coo_matrix((mat_dat, (row_ind, col_ind)))"
   ]
  },
  {
   "cell_type": "markdown",
   "metadata": {},
   "source": [
    "- Switch to integer CSC mode  \n",
    "  $ A \\cdot q=\\left(\\begin{array}{c}A_{r} \\\\ A_{d}\\end{array}\\right) \\cdot q=\\left(\\begin{array}{c}f_{r} \\\\ f_{d}\\end{array}\\right) $"
   ]
  },
  {
   "cell_type": "code",
   "execution_count": 14,
   "metadata": {},
   "outputs": [],
   "source": [
    "A = A.tocsc()\n",
    "A = A.astype(int64)"
   ]
  },
  {
   "cell_type": "markdown",
   "metadata": {},
   "source": [
    "- Partition of A according to the type of nodes  \n",
    "  $ A_r q = f_n$"
   ]
  },
  {
   "cell_type": "code",
   "execution_count": 15,
   "metadata": {},
   "outputs": [],
   "source": [
    "Ar = A[:mr,:]\n",
    "Ad = A[mr:m,:]"
   ]
  },
  {
   "cell_type": "markdown",
   "metadata": {},
   "source": [
    "- Sub-matrix of Ad associated with a tree and inverse  \n",
    "  $ A_d q = f_d$"
   ]
  },
  {
   "cell_type": "code",
   "execution_count": 16,
   "metadata": {},
   "outputs": [],
   "source": [
    "AdT = Ad[:,:md]\n",
    "AdI = inv(AdT).astype(int64)"
   ]
  },
  {
   "cell_type": "markdown",
   "metadata": {},
   "source": [
    "- Sub-matrix of Ad associated with a co-tree  \n",
    "  $ A_{d}=\\left(A_{d T}, A_{d C}\\right) $  \n",
    "  with  \n",
    "  $ q=\\left(\\begin{array}{l}q_{T} \\\\ q_{C}\\end{array}\\right) $"
   ]
  },
  {
   "cell_type": "code",
   "execution_count": 17,
   "metadata": {},
   "outputs": [],
   "source": [
    "AdC = Ad [:, md: n] "
   ]
  },
  {
   "cell_type": "markdown",
   "metadata": {},
   "source": [
    "- Matrix of incidence arcs-cycles  \n",
    "  $ B=\\left(\\begin{array}{c}-\\left(A_{d T}\\right)^{-1} \\cdot A_{d C} \\\\ I\\end{array}\\right)=\\left(\\begin{array}{c}B_{1} \\\\ B_{2}\\end{array}\\right) $"
   ]
  },
  {
   "cell_type": "code",
   "execution_count": 18,
   "metadata": {},
   "outputs": [],
   "source": [
    "B1 = - dot(AdI, AdC)\n",
    "B2 = eye(n-md, dtype=int64, format=\"csc\")\n",
    "B = vstack([B1,B2], format=\"csc\")"
   ]
  },
  {
   "cell_type": "markdown",
   "metadata": {},
   "source": [
    "### Vector of admissible flows   \n",
    "  $$ q_{T}=q_{0}+B q_{C} $$  \n",
    "  $$ q_{0}=\\left(\\begin{array}{c}\\left(A_{d T}\\right)^{-1} \\cdot f_{d} \\\\ 0\\end{array}\\right) $$"
   ]
  },
  {
   "cell_type": "code",
   "execution_count": 19,
   "metadata": {},
   "outputs": [],
   "source": [
    "q0 = zeros (n) \n",
    "q0 [: md ] = AdI.dot (fd)"
   ]
  },
  {
   "cell_type": "code",
   "execution_count": 3,
   "metadata": {},
   "outputs": [
    {
     "ename": "NameError",
     "evalue": "name 'n' is not defined",
     "output_type": "error",
     "traceback": [
      "\u001b[1;31m---------------------------------------------------------------------------\u001b[0m",
      "\u001b[1;31mNameError\u001b[0m                                 Traceback (most recent call last)",
      "\u001b[1;32m<ipython-input-3-bd0a2169d307>\u001b[0m in \u001b[0;36m<module>\u001b[1;34m\u001b[0m\n\u001b[1;32m----> 1\u001b[1;33m \u001b[0mqc\u001b[0m \u001b[1;33m=\u001b[0m \u001b[1;36m0.1\u001b[0m \u001b[1;33m*\u001b[0m \u001b[0mrandom\u001b[0m\u001b[1;33m.\u001b[0m\u001b[0mnormal\u001b[0m\u001b[1;33m(\u001b[0m\u001b[0msize\u001b[0m\u001b[1;33m=\u001b[0m\u001b[0mn\u001b[0m\u001b[1;33m-\u001b[0m\u001b[0mmd\u001b[0m\u001b[1;33m)\u001b[0m\u001b[1;33m\u001b[0m\u001b[1;33m\u001b[0m\u001b[0m\n\u001b[0m",
      "\u001b[1;31mNameError\u001b[0m: name 'n' is not defined"
     ]
    }
   ],
   "source": [
    "qc = 0.1 * random.normal(size=n-md)"
   ]
  },
  {
   "cell_type": "code",
   "execution_count": null,
   "metadata": {},
   "outputs": [],
   "source": []
  }
 ],
 "metadata": {
  "kernelspec": {
   "display_name": "Python 3",
   "language": "python",
   "name": "python3"
  },
  "language_info": {
   "codemirror_mode": {
    "name": "ipython",
    "version": 3
   },
   "file_extension": ".py",
   "mimetype": "text/x-python",
   "name": "python",
   "nbconvert_exporter": "python",
   "pygments_lexer": "ipython3",
   "version": "3.8.3"
  },
  "toc": {
   "base_numbering": 1,
   "nav_menu": {},
   "number_sections": true,
   "sideBar": true,
   "skip_h1_title": false,
   "title_cell": "Table of Contents",
   "title_sidebar": "Contents",
   "toc_cell": false,
   "toc_position": {},
   "toc_section_display": true,
   "toc_window_display": false
  }
 },
 "nbformat": 4,
 "nbformat_minor": 4
}
