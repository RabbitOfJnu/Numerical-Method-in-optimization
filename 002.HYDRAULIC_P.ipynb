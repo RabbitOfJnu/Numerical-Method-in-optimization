{
 "cells": [
  {
   "cell_type": "markdown",
   "metadata": {},
   "source": [
    "# CALCULATION OF THE HYDRAULIC VARIABLES OF THE NETWORK FROM THE FLOWS OF THE CO-SHAFT"
   ]
  },
  {
   "cell_type": "markdown",
   "metadata": {},
   "source": [
    "- Assuming known the vector of flows on the co-tree, we compute the set hydraulic variables of the network; for this, we have matrices and of the allowable flow that were calculated previously."
   ]
  },
  {
   "cell_type": "markdown",
   "metadata": {},
   "source": [
    "- Input variables"
   ]
  },
  {
   "cell_type": "markdown",
   "metadata": {},
   "source": [
    "1. $ q_{c} $: vector of the flow rates of the arcs of the co-tree  \n",
    "$ A_{d} q-f_{d}=0 $  \n",
    "$ q=q^{(0)}+B q_{c} $  "
   ]
  },
  {
   "cell_type": "markdown",
   "metadata": {},
   "source": [
    "- Output variables"
   ]
  },
  {
   "cell_type": "markdown",
   "metadata": {},
   "source": [
    "1. $ q  $: vector of the flow rates of the arcs  \n",
    "$ q=q^{(0)}+B q_{c} $  \n",
    "  \n",
    "2. $z$: vecator of the pressure losses of the arcs  \n",
    "$ z=r \\bullet q \\cdot|q| $  \n",
    "3. $f$: vector of the flows of the nodes  \n",
    "$ f=\\left(\\begin{array}{l}f_{r} \\\\ f_{d}\\end{array}\\right) \\in \\mathbb{R}^{m} $\n",
    "4. $p$: vector of the pressures of the nodes  \n",
    "$ p=\\left(\\begin{array}{l}p_{r} \\\\ p_{d}\\end{array}\\right) \\in \\mathbb{R}^{m} $"
   ]
  },
  {
   "cell_type": "code",
   "execution_count": 3,
   "metadata": {},
   "outputs": [],
   "source": [
    "def HydrauliqueP (qc, m, mr, md, r, pr, fd, Ar, AdI, B, q0):\n",
    "    \n",
    "    from numpy import dot\n",
    "    from numpy import abs\n",
    "    from numpy import zeros\n",
    "\n",
    "    # Arc rates\n",
    "    q = q0 + B.dot (qc)\n",
    "    \n",
    "    # Arc pressure drop\n",
    "    z = r * abs (q) * q\n",
    "    \n",
    "    # Node flow\n",
    "    f = zeros (m)\n",
    "    f [: mr] = Ar.dot (q)\n",
    "    f [mr:] = fd\n",
    "    \n",
    "    # Pressure at knots\n",
    "    p = zeros (m)\n",
    "    p [: mr] = pr\n",
    "    tmp = Ar.T.dot (pr) + z\n",
    "    p [mr:] = - AdI.T.dot (tmp [: md])\n",
    "\n",
    "    return q, z, f, p"
   ]
  },
  {
   "cell_type": "code",
   "execution_count": null,
   "metadata": {},
   "outputs": [],
   "source": []
  },
  {
   "cell_type": "code",
   "execution_count": null,
   "metadata": {},
   "outputs": [],
   "source": []
  }
 ],
 "metadata": {
  "kernelspec": {
   "display_name": "Python 3",
   "language": "python",
   "name": "python3"
  },
  "language_info": {
   "codemirror_mode": {
    "name": "ipython",
    "version": 3
   },
   "file_extension": ".py",
   "mimetype": "text/x-python",
   "name": "python",
   "nbconvert_exporter": "python",
   "pygments_lexer": "ipython3",
   "version": "3.8.3"
  },
  "toc": {
   "base_numbering": 1,
   "nav_menu": {},
   "number_sections": true,
   "sideBar": true,
   "skip_h1_title": false,
   "title_cell": "Table of Contents",
   "title_sidebar": "Contents",
   "toc_cell": false,
   "toc_position": {},
   "toc_section_display": true,
   "toc_window_display": false
  }
 },
 "nbformat": 4,
 "nbformat_minor": 4
}
