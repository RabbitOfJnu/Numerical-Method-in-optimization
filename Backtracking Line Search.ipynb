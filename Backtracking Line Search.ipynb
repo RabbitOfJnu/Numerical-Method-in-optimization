{
 "cells": [
  {
   "cell_type": "markdown",
   "metadata": {},
   "source": [
    "Algorithm 9.2 Backtracking line search.  \n",
    "given a descent direction $ \\Delta x$ for $f$ at $x \\in \\operatorname{dom}f$, $\\alpha \\in(0,0.5)$, $\\beta \\in (0,1)$, $t:=1$.  \n",
    "while $ f(x+t \\Delta x)>f(x)+\\alpha t \\nabla f(x)^{T} \\Delta x $,  \n",
    "$ t:=\\beta t $"
   ]
  },
  {
   "cell_type": "code",
   "execution_count": 1,
   "metadata": {},
   "outputs": [
    {
     "ename": "SyntaxError",
     "evalue": "invalid syntax (<ipython-input-1-436631065bb9>, line 45)",
     "output_type": "error",
     "traceback": [
      "\u001b[1;36m  File \u001b[1;32m\"<ipython-input-1-436631065bb9>\"\u001b[1;36m, line \u001b[1;32m45\u001b[0m\n\u001b[1;33m    if Verbose: print 'linesearch iteration', fc, ':', stp, f(x + stp * p, *args), f_x + alpha * stp * derphi\u001b[0m\n\u001b[1;37m                      ^\u001b[0m\n\u001b[1;31mSyntaxError\u001b[0m\u001b[1;31m:\u001b[0m invalid syntax\n"
     ]
    }
   ],
   "source": [
    "def BacktrackingLineSearch(f, df, x, p, df_x = None, f_x = None, \n",
    "                           args = (),\n",
    "                           alpha = 0.0001, beta = 0.9, \n",
    "                           eps = _epsilon, Verbose = False):\n",
    "    \"\"\"\n",
    "    Backtracking linesearch\n",
    "    f: function\n",
    "    x: current point\n",
    "    p: direction of search\n",
    "    df_x: gradient at x\n",
    "    f_x = f(x) (Optional)\n",
    "    args: optional arguments to f (optional)\n",
    "    alpha, beta: backtracking parameters\n",
    "    eps: (Optional) quit if norm of step produced is less than this\n",
    "    Verbose: (Optional) Print lots of info about progress\n",
    "    \n",
    "    Reference: Nocedal and Wright 2/e (2006), p. 37\n",
    "    \n",
    "    Usage notes:\n",
    "    -----------\n",
    "    Recommended for Newton methods; less appropriate for quasi-Newton or conjugate gradients\n",
    "    \"\"\"\n",
    "\n",
    "    if f_x is None:\n",
    "        f_x = f(x, *args)\n",
    "    if df_x is None:\n",
    "        df_x = df(x, *args)\n",
    "\n",
    "    assert df_x.T.shape == p.shape\n",
    "    assert 0 < alpha < 1, 'Invalid value of alpha in backtracking linesearch'\n",
    "    assert 0 < beta < 1, 'Invalid value of beta in backtracking linesearch'\n",
    "\n",
    "    derphi = dot(df_x, p)\n",
    "\n",
    "    assert derphi.shape == (1, 1) or derphi.shape == ()\n",
    "    assert derphi < 0, 'Attempted to linesearch uphill'\n",
    "\n",
    "    stp = 1.0\n",
    "    fc = 0\n",
    "    len_p = norm(p)\n",
    "\n",
    "\n",
    "    #Loop until Armijo condition is satisfied\n",
    "    while f(x + stp * p, *args) > f_x + alpha * stp * derphi:\n",
    "        stp *= beta\n",
    "        fc += 1\n",
    "        if Verbose: print 'linesearch iteration', fc, ':', stp, f(x + stp * p, *args), f_x + alpha * stp * derphi\n",
    "        if stp * len_p < eps:\n",
    "            print 'Step is  too small, stop'\n",
    "            break\n",
    "    #if Verbose: print 'linesearch iteration 0 :', stp, f_x, f_x\n",
    "\n",
    "    if Verbose: print 'linesearch done'\n",
    "    #print fc, 'iterations in linesearch'\n",
    "    return stp\n"
   ]
  },
  {
   "cell_type": "code",
   "execution_count": 3,
   "metadata": {},
   "outputs": [],
   "source": [
    "def BacktrackingLineSearch(qc,critere,gradient,delta_x,\n",
    "                           alpha = 0.0001, beta = 0.9):\n",
    "    step = 1.0\n",
    "    qc_new = qc + step * delta_x\n",
    "    q = q0 + B.dot (qc_new)\n",
    "    critere_new = 1/3*q.dot(r*q*abs(q)) + pr.dot(Ar.dot(q))\n",
    "    while critere_new > critere + alpha * step * delta_x:\n",
    "        step *= beta\n",
    "    return step"
   ]
  },
  {
   "cell_type": "code",
   "execution_count": null,
   "metadata": {},
   "outputs": [],
   "source": []
  }
 ],
 "metadata": {
  "kernelspec": {
   "display_name": "Python 3",
   "language": "python",
   "name": "python3"
  },
  "language_info": {
   "codemirror_mode": {
    "name": "ipython",
    "version": 3
   },
   "file_extension": ".py",
   "mimetype": "text/x-python",
   "name": "python",
   "nbconvert_exporter": "python",
   "pygments_lexer": "ipython3",
   "version": "3.8.3"
  },
  "toc": {
   "base_numbering": 1,
   "nav_menu": {},
   "number_sections": true,
   "sideBar": true,
   "skip_h1_title": false,
   "title_cell": "Table of Contents",
   "title_sidebar": "Contents",
   "toc_cell": false,
   "toc_position": {},
   "toc_section_display": true,
   "toc_window_display": false
  }
 },
 "nbformat": 4,
 "nbformat_minor": 4
}
