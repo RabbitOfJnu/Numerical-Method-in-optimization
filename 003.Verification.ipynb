{
 "cells": [
  {
   "cell_type": "markdown",
   "metadata": {},
   "source": [
    "# CHECKING THE BALANCE EQUATIONS OF A WATER DISTRIBUTION NETWORK"
   ]
  },
  {
   "cell_type": "markdown",
   "metadata": {},
   "source": [
    "- We assume the solution of the optimization problem is determined and reconstituted the hydraulic variables of the network. We calculate the greatest difference on the 2 series of equations which characterize the equilibrium of the network."
   ]
  },
  {
   "cell_type": "markdown",
   "metadata": {},
   "source": [
    "- Input variables"
   ]
  },
  {
   "cell_type": "markdown",
   "metadata": {},
   "source": [
    "1. $ q  $: vector of the flow rates of the arcs  \n",
    "$ q=q^{(0)}+B q_{c} $  \n",
    "  \n",
    "2. $z$: vecator of the pressure losses of the arcs  \n",
    "$ z=r \\bullet q \\cdot|q| $  \n",
    "3. $f$: vector of the flows of the nodes  \n",
    "$ f=\\left(\\begin{array}{l}f_{r} \\\\ f_{d}\\end{array}\\right) \\in \\mathbb{R}^{m} $\n",
    "4. $p$: vector of the pressures of the nodes  \n",
    "$ p=\\left(\\begin{array}{l}p_{r} \\\\ p_{d}\\end{array}\\right) \\in \\mathbb{R}^{m} $"
   ]
  },
  {
   "cell_type": "code",
   "execution_count": 2,
   "metadata": {},
   "outputs": [],
   "source": [
    "def Verification (A, q, z, f, p):\n",
    "\n",
    "    from numpy import dot\n",
    "    from numpy import abs\n",
    "    \n",
    "    # Maximum deviations on Kirschoff's laws\n",
    "    tol_debits = max (abs (A.dot (q) - f))\n",
    "    tol_pression = max (abs (ATdot (p) + z))\n",
    "    \n",
    "    # Display\n",
    "    print ()\n",
    "    print (\"Verification of network equilibrium equations\")\n",
    "    print (\"On the bitrates: {}\". format (tol_debits))\n",
    "    print (\"On the pressures: {}\". format (tol_pression))\n"
   ]
  },
  {
   "cell_type": "code",
   "execution_count": null,
   "metadata": {},
   "outputs": [],
   "source": []
  }
 ],
 "metadata": {
  "kernelspec": {
   "display_name": "Python 3",
   "language": "python",
   "name": "python3"
  },
  "language_info": {
   "codemirror_mode": {
    "name": "ipython",
    "version": 3
   },
   "file_extension": ".py",
   "mimetype": "text/x-python",
   "name": "python",
   "nbconvert_exporter": "python",
   "pygments_lexer": "ipython3",
   "version": "3.8.3"
  },
  "toc": {
   "base_numbering": 1,
   "nav_menu": {},
   "number_sections": true,
   "sideBar": true,
   "skip_h1_title": false,
   "title_cell": "Table of Contents",
   "title_sidebar": "Contents",
   "toc_cell": false,
   "toc_position": {},
   "toc_section_display": true,
   "toc_window_display": false
  }
 },
 "nbformat": 4,
 "nbformat_minor": 4
}
